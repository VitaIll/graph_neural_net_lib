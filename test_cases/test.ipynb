{
 "cells": [
  {
   "cell_type": "code",
   "execution_count": null,
   "metadata": {},
   "outputs": [],
   "source": [
    "import diadicNet \n",
    "import numpy as np\n",
    "\n",
    "# companies 1,2,3\n",
    "input_neuron_11 = diadicNet.InputNeuron( tuple([1,1]), np.random.randint(size = [10,10], low = 0, high = 2))\n",
    "input_neuron_12 = diadicNet.InputNeuron( tuple([1,2]), np.random.randint(size = [10,10], low = 0, high = 2))\n",
    "input_neuron_13 = diadicNet.InputNeuron( tuple([1,3]), np.random.randint(size = [10,10], low = 0, high = 2))\n",
    "\n"
   ]
  },
  {
   "cell_type": "code",
   "execution_count": null,
   "metadata": {},
   "outputs": [],
   "source": [
    "# example of adjacency submatrix\n",
    "np.random.randint(size = [10,10], low = 0, high = 2)"
   ]
  },
  {
   "cell_type": "code",
   "execution_count": null,
   "metadata": {},
   "outputs": [],
   "source": [
    "# feature list of 1,2 neuron\n",
    "input_neuron_12.m_feature_extractor.m_feature_list"
   ]
  },
  {
   "cell_type": "code",
   "execution_count": null,
   "metadata": {},
   "outputs": [],
   "source": [
    "# create list of matricies\n",
    "unit_count = 12\n",
    "partition  = []\n",
    "\n",
    "for i in range(12):\n",
    "    partition.append(np.random.randint(size = [10,10], low = 0, high = 2))\n",
    "\n",
    "layer = diadicNet.InputLayer(1,partition)"
   ]
  },
  {
   "cell_type": "code",
   "execution_count": null,
   "metadata": {},
   "outputs": [],
   "source": [
    "layer.neuron_list"
   ]
  },
  {
   "cell_type": "code",
   "execution_count": null,
   "metadata": {},
   "outputs": [],
   "source": [
    "neuron = layer.neuron_list[1]\n",
    "\n",
    "print(neuron.idx_tuple)\n",
    "print(neuron.m_feature_extractor.m_feature_list)"
   ]
  },
  {
   "cell_type": "code",
   "execution_count": null,
   "metadata": {},
   "outputs": [],
   "source": [
    "x = np.array([])\n",
    "print(x)\n",
    "x = np.append(x, [1])\n",
    "print(x)\n",
    "x = np.append(x, [6])\n",
    "print(x)\n",
    "\n",
    "print(type(x))\n",
    "\n",
    "print(x[0])"
   ]
  },
  {
   "cell_type": "code",
   "execution_count": null,
   "metadata": {},
   "outputs": [],
   "source": [
    "x = np.array([1,2,3])\n",
    "y = np.array([1,2,3])\n",
    "z = x@y\n",
    "z"
   ]
  }
 ],
 "metadata": {
  "kernelspec": {
   "display_name": "base",
   "language": "python",
   "name": "python3"
  },
  "language_info": {
   "codemirror_mode": {
    "name": "ipython",
    "version": 3
   },
   "file_extension": ".py",
   "mimetype": "text/x-python",
   "name": "python",
   "nbconvert_exporter": "python",
   "pygments_lexer": "ipython3",
   "version": "3.10.0"
  }
 },
 "nbformat": 4,
 "nbformat_minor": 2
}

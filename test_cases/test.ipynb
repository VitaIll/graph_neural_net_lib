{
 "cells": [
  {
   "cell_type": "code",
   "execution_count": 12,
   "metadata": {},
   "outputs": [],
   "source": [
    "import diadicNet \n",
    "import numpy as np\n",
    "\n",
    "# companies 1,2,3\n",
    "input_neuron_11 = diadicNet.InputNeuron( tuple([1,1]), np.random.randint(size = [10,10], low = 0, high = 2))\n",
    "input_neuron_12 = diadicNet.InputNeuron( tuple([1,2]), np.random.randint(size = [10,10], low = 0, high = 2))\n",
    "input_neuron_13 = diadicNet.InputNeuron( tuple([1,3]), np.random.randint(size = [10,10], low = 0, high = 2))\n",
    "\n"
   ]
  },
  {
   "cell_type": "code",
   "execution_count": 2,
   "metadata": {},
   "outputs": [
    {
     "data": {
      "text/plain": [
       "array([[0, 0, 1, 1, 0, 0, 0, 0, 0, 1],\n",
       "       [1, 1, 1, 1, 0, 1, 0, 0, 1, 0],\n",
       "       [1, 0, 0, 0, 1, 1, 1, 0, 1, 0],\n",
       "       [1, 1, 0, 0, 0, 1, 1, 1, 1, 1],\n",
       "       [0, 0, 0, 1, 0, 1, 1, 1, 0, 0],\n",
       "       [1, 0, 1, 1, 0, 1, 0, 1, 0, 0],\n",
       "       [1, 0, 0, 1, 1, 0, 0, 0, 1, 0],\n",
       "       [1, 1, 0, 0, 0, 0, 1, 0, 1, 1],\n",
       "       [0, 1, 1, 0, 1, 1, 0, 1, 0, 0],\n",
       "       [1, 0, 1, 1, 1, 0, 1, 0, 1, 0]])"
      ]
     },
     "execution_count": 2,
     "metadata": {},
     "output_type": "execute_result"
    }
   ],
   "source": [
    "# example of adjacency submatrix\n",
    "np.random.randint(size = [10,10], low = 0, high = 2)"
   ]
  },
  {
   "cell_type": "code",
   "execution_count": 3,
   "metadata": {},
   "outputs": [
    {
     "data": {
      "text/plain": [
       "[0.9777777777777779, 0.8841269841269842]"
      ]
     },
     "execution_count": 3,
     "metadata": {},
     "output_type": "execute_result"
    }
   ],
   "source": [
    "# feature list of 1,2 neuron\n",
    "input_neuron_12.m_feature_extractor.m_feature_list"
   ]
  },
  {
   "cell_type": "code",
   "execution_count": 4,
   "metadata": {},
   "outputs": [],
   "source": [
    "# create list of matricies\n",
    "unit_count = 12\n",
    "partition  = []\n",
    "\n",
    "for i in range(12):\n",
    "    partition.append(np.random.randint(size = [10,10], low = 0, high = 2))\n",
    "\n",
    "layer = diadicNet.InputLayer(1,partition)"
   ]
  },
  {
   "cell_type": "code",
   "execution_count": 5,
   "metadata": {},
   "outputs": [
    {
     "data": {
      "text/plain": [
       "[<diadicNet.input_neuron.InputNeuron at 0x17b2e259c30>,\n",
       " <diadicNet.input_neuron.InputNeuron at 0x17b2e25a2f0>,\n",
       " <diadicNet.input_neuron.InputNeuron at 0x17b4dcb7340>,\n",
       " <diadicNet.input_neuron.InputNeuron at 0x17b4dcb72e0>,\n",
       " <diadicNet.input_neuron.InputNeuron at 0x17b4dcb7370>,\n",
       " <diadicNet.input_neuron.InputNeuron at 0x17b2e259240>,\n",
       " <diadicNet.input_neuron.InputNeuron at 0x17b4dcb6c20>,\n",
       " <diadicNet.input_neuron.InputNeuron at 0x17b4dcb7b20>,\n",
       " <diadicNet.input_neuron.InputNeuron at 0x17b4dcb6bc0>,\n",
       " <diadicNet.input_neuron.InputNeuron at 0x17b4dcb7040>,\n",
       " <diadicNet.input_neuron.InputNeuron at 0x17b4dcb7c10>,\n",
       " <diadicNet.input_neuron.InputNeuron at 0x17b4dcb7fa0>]"
      ]
     },
     "execution_count": 5,
     "metadata": {},
     "output_type": "execute_result"
    }
   ],
   "source": [
    "layer.neuron_list"
   ]
  },
  {
   "cell_type": "code",
   "execution_count": 11,
   "metadata": {},
   "outputs": [
    {
     "name": "stdout",
     "output_type": "stream",
     "text": [
      "(1, 2)\n",
      "[0.7333333333333334, 0.6845238095238095]\n"
     ]
    }
   ],
   "source": [
    "neuron = layer.neuron_list[1]\n",
    "\n",
    "print(neuron.idx_tuple)\n",
    "print(neuron.m_feature_extractor.m_feature_list)"
   ]
  },
  {
   "cell_type": "code",
   "execution_count": 22,
   "metadata": {},
   "outputs": [
    {
     "name": "stdout",
     "output_type": "stream",
     "text": [
      "[]\n",
      "[1.]\n",
      "[1. 6.]\n",
      "<class 'numpy.ndarray'>\n",
      "1.0\n"
     ]
    }
   ],
   "source": [
    "x = np.array([])\n",
    "print(x)\n",
    "x = np.append(x, [1])\n",
    "print(x)\n",
    "x = np.append(x, [6])\n",
    "print(x)\n",
    "\n",
    "print(type(x))\n",
    "\n",
    "print(x[0])"
   ]
  }
 ],
 "metadata": {
  "kernelspec": {
   "display_name": "base",
   "language": "python",
   "name": "python3"
  },
  "language_info": {
   "codemirror_mode": {
    "name": "ipython",
    "version": 3
   },
   "file_extension": ".py",
   "mimetype": "text/x-python",
   "name": "python",
   "nbconvert_exporter": "python",
   "pygments_lexer": "ipython3",
   "version": "3.10.0"
  }
 },
 "nbformat": 4,
 "nbformat_minor": 2
}
